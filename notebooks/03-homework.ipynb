{
 "cells": [
  {
   "cell_type": "markdown",
   "id": "78f16b82-3ae7-4f6b-9713-21c7b539c14f",
   "metadata": {},
   "source": [
    "Импортируем библиотеки"
   ]
  },
  {
   "cell_type": "code",
   "execution_count": 1,
   "id": "da8b8b66-c64e-4345-a181-48e511f6399b",
   "metadata": {},
   "outputs": [],
   "source": [
    "import pandas as pd\n",
    "import numpy as np\n",
    "import seaborn as sns\n",
    "from tqdm import tqdm\n",
    "import matplotlib.pyplot as plt\n",
    "\n",
    "from sklearn.linear_model import LogisticRegression\n",
    "from sklearn.neighbors import KNeighborsClassifier\n",
    "from sklearn.svm import SVC\n",
    "from sklearn.naive_bayes import GaussianNB\n",
    "from sklearn.metrics import accuracy_score, confusion_matrix, precision_score, recall_score"
   ]
  },
  {
   "cell_type": "markdown",
   "id": "2c2ed431-bb93-4355-ac58-3dadf6ed0af2",
   "metadata": {},
   "source": [
    "# Easy"
   ]
  },
  {
   "cell_type": "code",
   "execution_count": 2,
   "id": "b9d04127-e4e6-4c4a-b01f-f0d900da04eb",
   "metadata": {},
   "outputs": [],
   "source": [
    "train = pd.read_pickle('../data/train.pickle')\n",
    "x_train = train['features'].reshape(train['features'].shape[0], -1)\n",
    "y_train = train['labels']\n",
    "\n",
    "test = pd.read_pickle('../data/test.pickle')\n",
    "x_test = test['features'].reshape(test['features'].shape[0], -1)\n",
    "y_test = test['labels']\n",
    "\n",
    "labels = pd.read_pickle('../data/labels.pickle')"
   ]
  },
  {
   "cell_type": "code",
   "execution_count": 3,
   "id": "9fb9b06f-50bd-4e76-8d13-c76bd603035d",
   "metadata": {},
   "outputs": [
    {
     "name": "stderr",
     "output_type": "stream",
     "text": [
      "C:\\Users\\423\\miniconda3\\envs\\myenvironment\\Lib\\site-packages\\sklearn\\linear_model\\_logistic.py:460: ConvergenceWarning: lbfgs failed to converge (status=1):\n",
      "STOP: TOTAL NO. of ITERATIONS REACHED LIMIT.\n",
      "\n",
      "Increase the number of iterations (max_iter) or scale the data as shown in:\n",
      "    https://scikit-learn.org/stable/modules/preprocessing.html\n",
      "Please also refer to the documentation for alternative solver options:\n",
      "    https://scikit-learn.org/stable/modules/linear_model.html#logistic-regression\n",
      "  n_iter_i = _check_optimize_result(\n"
     ]
    }
   ],
   "source": [
    "model = LogisticRegression(max_iter=100)\n",
    "model.fit(x_train, y_train)\n",
    "pred = model.predict(x_test)"
   ]
  },
  {
   "cell_type": "markdown",
   "id": "29753ae8-ce53-4ea6-8984-d7dc8c79903c",
   "metadata": {},
   "source": [
    "Accuracy для общей оценки качества, recall и precision на случай дизбаланса классов"
   ]
  },
  {
   "cell_type": "code",
   "execution_count": 4,
   "id": "31e2a58a-96b3-46c0-8164-76a98a1a77d4",
   "metadata": {},
   "outputs": [
    {
     "name": "stdout",
     "output_type": "stream",
     "text": [
      "Accuracy:  0.8169437846397466\n",
      "Recall:    0.7928267421239333\n",
      "Precision: 0.7399774952886683\n"
     ]
    }
   ],
   "source": [
    "print(f\"Accuracy:  {accuracy_score(pred, y_test)}\")\n",
    "print(f\"Recall:    {recall_score(pred, y_test, average='macro')}\")\n",
    "print(f\"Precision: {precision_score(pred, y_test, average='macro')}\")"
   ]
  },
  {
   "cell_type": "code",
   "execution_count": 5,
   "id": "89f43a44-933e-40f6-92a5-f3fdcbc59447",
   "metadata": {},
   "outputs": [],
   "source": [
    "mistakes = {}\n",
    "for i in range(len(pred)):\n",
    "    if pred[i] != y_test[i]:\n",
    "        tmp = tuple(sorted([pred[i] , y_test[i]]))\n",
    "        if tmp not in mistakes.keys():\n",
    "            mistakes[tmp] = 1\n",
    "        else:\n",
    "            mistakes[tmp] += 1"
   ]
  },
  {
   "cell_type": "code",
   "execution_count": 6,
   "id": "cab8d0bb-344a-43c1-8a4c-d31769f3552d",
   "metadata": {},
   "outputs": [
    {
     "name": "stdout",
     "output_type": "stream",
     "text": [
      "Speed limit (30km/h)\n",
      "Speed limit (50km/h)\n",
      "Speed limit (60km/h)\n",
      "Speed limit (70km/h)\n",
      "Speed limit (80km/h)\n",
      "Speed limit (100km/h)\n",
      "Speed limit (120km/h)\n"
     ]
    }
   ],
   "source": [
    "tmp = sorted([(mistakes[key], key) for key in mistakes.keys()], reverse=True)[:5]\n",
    "print('\\n'.join([labels[k] for k in set(i[1][0] for i in tmp) | set(i[1][1] for i in tmp)]))"
   ]
  },
  {
   "cell_type": "markdown",
   "id": "b615b3ae-e532-4bca-858c-b954b29d9cd8",
   "metadata": {},
   "source": [
    "# Medium"
   ]
  },
  {
   "cell_type": "markdown",
   "id": "86af668c-056c-4732-b369-bb8b178d1609",
   "metadata": {},
   "source": [
    "Результаты логистической регрессии в первой задаче"
   ]
  },
  {
   "cell_type": "markdown",
   "id": "4d9f9f37-f3fd-4e02-89db-0591b43f8ccb",
   "metadata": {},
   "source": [
    "kNN"
   ]
  },
  {
   "cell_type": "code",
   "execution_count": 7,
   "id": "4526e53b-8084-4d2a-a3ad-a3c7608e8783",
   "metadata": {},
   "outputs": [
    {
     "data": {
      "text/plain": [
       "0.3847189231987332"
      ]
     },
     "execution_count": 7,
     "metadata": {},
     "output_type": "execute_result"
    }
   ],
   "source": [
    "model = KNeighborsClassifier(n_neighbors=5)\n",
    "model.fit(x_train, y_train)\n",
    "pred = model.predict(x_test)\n",
    "accuracy_score(y_test, pred)"
   ]
  },
  {
   "cell_type": "markdown",
   "id": "4d54af65-68bd-472c-a369-4dacf795612e",
   "metadata": {},
   "source": [
    "НБК"
   ]
  },
  {
   "cell_type": "code",
   "execution_count": 8,
   "id": "f61c8b63-832c-42f5-a420-de11ad7cabe5",
   "metadata": {},
   "outputs": [
    {
     "data": {
      "text/plain": [
       "0.11971496437054632"
      ]
     },
     "execution_count": 8,
     "metadata": {},
     "output_type": "execute_result"
    }
   ],
   "source": [
    "model = GaussianNB()\n",
    "model.fit(x_train, y_train)\n",
    "pred = model.predict(x_test)\n",
    "accuracy_score(y_test, pred)"
   ]
  },
  {
   "cell_type": "markdown",
   "id": "6a03f33e-ed80-45ef-a631-5db6e2d8d0d4",
   "metadata": {},
   "source": [
    "SVC"
   ]
  },
  {
   "cell_type": "code",
   "execution_count": 9,
   "id": "491012af-7773-493f-a221-8bf60b4b4eaf",
   "metadata": {},
   "outputs": [
    {
     "name": "stderr",
     "output_type": "stream",
     "text": [
      "C:\\Users\\423\\miniconda3\\envs\\myenvironment\\Lib\\site-packages\\sklearn\\svm\\_base.py:297: ConvergenceWarning: Solver terminated early (max_iter=50).  Consider pre-processing your data with StandardScaler or MinMaxScaler.\n",
      "  warnings.warn(\n"
     ]
    },
    {
     "data": {
      "text/plain": [
       "0.5441013460015836"
      ]
     },
     "execution_count": 9,
     "metadata": {},
     "output_type": "execute_result"
    }
   ],
   "source": [
    "model = SVC(kernel='linear', max_iter=50)\n",
    "model.fit(x_train, y_train)\n",
    "pred = model.predict(x_test)\n",
    "accuracy_score(y_test, pred)"
   ]
  },
  {
   "cell_type": "code",
   "execution_count": 10,
   "id": "f734edcf-c75a-4561-945a-ff4aacb8ae88",
   "metadata": {},
   "outputs": [
    {
     "name": "stderr",
     "output_type": "stream",
     "text": [
      "C:\\Users\\423\\miniconda3\\envs\\myenvironment\\Lib\\site-packages\\sklearn\\svm\\_base.py:297: ConvergenceWarning: Solver terminated early (max_iter=30).  Consider pre-processing your data with StandardScaler or MinMaxScaler.\n",
      "  warnings.warn(\n"
     ]
    },
    {
     "data": {
      "text/plain": [
       "0.06492478226444973"
      ]
     },
     "execution_count": 10,
     "metadata": {},
     "output_type": "execute_result"
    }
   ],
   "source": [
    "model = SVC(kernel='poly', max_iter=30)\n",
    "model.fit(x_train, y_train)\n",
    "pred = model.predict(x_test)\n",
    "accuracy_score(y_test, pred)"
   ]
  },
  {
   "cell_type": "code",
   "execution_count": null,
   "id": "6872b6f9-8c62-4167-b0de-6eab37619ff7",
   "metadata": {},
   "outputs": [
    {
     "name": "stderr",
     "output_type": "stream",
     "text": [
      "C:\\Users\\423\\miniconda3\\envs\\myenvironment\\Lib\\site-packages\\sklearn\\svm\\_base.py:297: ConvergenceWarning: Solver terminated early (max_iter=30).  Consider pre-processing your data with StandardScaler or MinMaxScaler.\n",
      "  warnings.warn(\n"
     ]
    }
   ],
   "source": [
    "model = SVC(kernel='rbf', max_iter=30)\n",
    "model.fit(x_train, y_train)\n",
    "pred = model.predict(x_test)\n",
    "accuracy_score(y_test, pred)"
   ]
  },
  {
   "cell_type": "markdown",
   "id": "e462e149-6672-4c85-a3fd-7a12ab95bc92",
   "metadata": {},
   "source": [
    "### Выводы\n",
    "- Лучше всего справилась логистическая регрессия ввиду большого числа классификаторов;\n",
    "- kNN отработала плохо, т.к. чувствительна к размерности данных;\n",
    "- NBC нужно, чтобы фичи были независимы, но в данном случае это не так;\n",
    "- SVM с полиномиальным ядром в принципе не очень точна;"
   ]
  }
 ],
 "metadata": {
  "kernelspec": {
   "display_name": "Python 3 (ipykernel)",
   "language": "python",
   "name": "python3"
  },
  "language_info": {
   "codemirror_mode": {
    "name": "ipython",
    "version": 3
   },
   "file_extension": ".py",
   "mimetype": "text/x-python",
   "name": "python",
   "nbconvert_exporter": "python",
   "pygments_lexer": "ipython3",
   "version": "3.11.7"
  }
 },
 "nbformat": 4,
 "nbformat_minor": 5
}
